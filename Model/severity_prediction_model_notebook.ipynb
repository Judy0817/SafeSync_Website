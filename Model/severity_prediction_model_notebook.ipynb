{
 "cells": [
  {
   "cell_type": "code",
   "execution_count": 1,
   "id": "197f3f18",
   "metadata": {
    "execution": {
     "iopub.execute_input": "2025-01-16T03:57:22.419310Z",
     "iopub.status.busy": "2025-01-16T03:57:22.419010Z",
     "iopub.status.idle": "2025-01-16T03:57:31.729203Z",
     "shell.execute_reply": "2025-01-16T03:57:31.728487Z"
    },
    "papermill": {
     "duration": 9.316487,
     "end_time": "2025-01-16T03:57:31.730618",
     "exception": false,
     "start_time": "2025-01-16T03:57:22.414131",
     "status": "completed"
    },
    "tags": []
   },
   "outputs": [],
   "source": [
    "import pandas as pd\n",
    "import missingno as msno\n",
    "import numpy as np\n",
    "import tensorflow as tf\n",
    "from sklearn.model_selection import train_test_split\n",
    "from sklearn.preprocessing import StandardScaler, OneHotEncoder\n",
    "from sklearn.compose import ColumnTransformer\n",
    "from sklearn.pipeline import Pipeline\n",
    "import matplotlib.pyplot as plt\n",
    "import seaborn as sns\n",
    "from sklearn.utils import resample"
   ]
  },
  {
   "cell_type": "code",
   "execution_count": 2,
   "id": "e3a2abe3",
   "metadata": {
    "execution": {
     "iopub.execute_input": "2025-01-16T03:57:31.739329Z",
     "iopub.status.busy": "2025-01-16T03:57:31.738849Z",
     "iopub.status.idle": "2025-01-16T03:57:32.189331Z",
     "shell.execute_reply": "2025-01-16T03:57:32.188508Z"
    },
    "papermill": {
     "duration": 0.455815,
     "end_time": "2025-01-16T03:57:32.190543",
     "exception": false,
     "start_time": "2025-01-16T03:57:31.734728",
     "status": "completed"
    },
    "tags": []
   },
   "outputs": [
    {
     "name": "stdout",
     "output_type": "stream",
     "text": [
      "GPUs available: [PhysicalDevice(name='/physical_device:GPU:0', device_type='GPU'), PhysicalDevice(name='/physical_device:GPU:1', device_type='GPU')]\n"
     ]
    }
   ],
   "source": [
    "gpus = tf.config.list_physical_devices('GPU')\n",
    "if gpus:\n",
    "    for gpu in gpus:\n",
    "        tf.config.experimental.set_memory_growth(gpu, True)\n",
    "    print(f\"GPUs available: {gpus}\")\n",
    "else:\n",
    "    print(\"No GPUs detected, running on CPU\")"
   ]
  },
  {
   "cell_type": "code",
   "execution_count": 3,
   "id": "00efad28",
   "metadata": {
    "_cell_guid": "b1076dfc-b9ad-4769-8c92-a6c4dae69d19",
    "_uuid": "8f2839f25d086af736a60e9eeb907d3b93b6e0e5",
    "execution": {
     "iopub.execute_input": "2025-01-16T03:57:32.198576Z",
     "iopub.status.busy": "2025-01-16T03:57:32.198348Z",
     "iopub.status.idle": "2025-01-16T03:59:05.857864Z",
     "shell.execute_reply": "2025-01-16T03:59:05.856970Z"
    },
    "papermill": {
     "duration": 93.667516,
     "end_time": "2025-01-16T03:59:05.861839",
     "exception": false,
     "start_time": "2025-01-16T03:57:32.194323",
     "status": "completed"
    },
    "tags": []
   },
   "outputs": [
    {
     "name": "stdout",
     "output_type": "stream",
     "text": [
      "All columns : \n",
      "Index(['ID', 'Source', 'Severity', 'Start_Time', 'End_Time', 'Start_Lat',\n",
      "       'Start_Lng', 'End_Lat', 'End_Lng', 'Distance(mi)', 'Description',\n",
      "       'Street', 'City', 'County', 'State', 'Zipcode', 'Country', 'Timezone',\n",
      "       'Airport_Code', 'Weather_Timestamp', 'Temperature(F)', 'Wind_Chill(F)',\n",
      "       'Humidity(%)', 'Pressure(in)', 'Visibility(mi)', 'Wind_Direction',\n",
      "       'Wind_Speed(mph)', 'Precipitation(in)', 'Weather_Condition', 'Amenity',\n",
      "       'Bump', 'Crossing', 'Give_Way', 'Junction', 'No_Exit', 'Railway',\n",
      "       'Roundabout', 'Station', 'Stop', 'Traffic_Calming', 'Traffic_Signal',\n",
      "       'Turning_Loop', 'Sunrise_Sunset', 'Civil_Twilight', 'Nautical_Twilight',\n",
      "       'Astronomical_Twilight'],\n",
      "      dtype='object')\n"
     ]
    }
   ],
   "source": [
    "data    = pd.read_csv('/kaggle/input/us-accidents/US_Accidents_March23.csv', sep=',', encoding='latin-1')\n",
    "print(\"All columns : \");\n",
    "print(data.columns);"
   ]
  },
  {
   "cell_type": "code",
   "execution_count": 4,
   "id": "f01f081c",
   "metadata": {
    "execution": {
     "iopub.execute_input": "2025-01-16T03:59:05.869847Z",
     "iopub.status.busy": "2025-01-16T03:59:05.869591Z",
     "iopub.status.idle": "2025-01-16T03:59:12.170090Z",
     "shell.execute_reply": "2025-01-16T03:59:12.169180Z"
    },
    "papermill": {
     "duration": 6.306046,
     "end_time": "2025-01-16T03:59:12.171572",
     "exception": false,
     "start_time": "2025-01-16T03:59:05.865526",
     "status": "completed"
    },
    "tags": []
   },
   "outputs": [
    {
     "data": {
      "text/plain": [
       "ID                             0\n",
       "Source                         0\n",
       "Severity                       0\n",
       "Start_Time                     0\n",
       "End_Time                       0\n",
       "Start_Lat                      0\n",
       "Start_Lng                      0\n",
       "End_Lat                  3402762\n",
       "End_Lng                  3402762\n",
       "Distance(mi)                   0\n",
       "Description                    5\n",
       "Street                     10869\n",
       "City                         253\n",
       "County                         0\n",
       "State                          0\n",
       "Zipcode                     1915\n",
       "Country                        0\n",
       "Timezone                    7808\n",
       "Airport_Code               22635\n",
       "Weather_Timestamp         120228\n",
       "Temperature(F)            163853\n",
       "Wind_Chill(F)            1999019\n",
       "Humidity(%)               174144\n",
       "Pressure(in)              140679\n",
       "Visibility(mi)            177098\n",
       "Wind_Direction            175206\n",
       "Wind_Speed(mph)           571233\n",
       "Precipitation(in)        2203586\n",
       "Weather_Condition         173459\n",
       "Amenity                        0\n",
       "Bump                           0\n",
       "Crossing                       0\n",
       "Give_Way                       0\n",
       "Junction                       0\n",
       "No_Exit                        0\n",
       "Railway                        0\n",
       "Roundabout                     0\n",
       "Station                        0\n",
       "Stop                           0\n",
       "Traffic_Calming                0\n",
       "Traffic_Signal                 0\n",
       "Turning_Loop                   0\n",
       "Sunrise_Sunset             23246\n",
       "Civil_Twilight             23246\n",
       "Nautical_Twilight          23246\n",
       "Astronomical_Twilight      23246\n",
       "dtype: int64"
      ]
     },
     "execution_count": 4,
     "metadata": {},
     "output_type": "execute_result"
    }
   ],
   "source": [
    "data.isna().sum()"
   ]
  },
  {
   "cell_type": "code",
   "execution_count": 5,
   "id": "352a80a3",
   "metadata": {
    "execution": {
     "iopub.execute_input": "2025-01-16T03:59:12.180782Z",
     "iopub.status.busy": "2025-01-16T03:59:12.180546Z",
     "iopub.status.idle": "2025-01-16T03:59:13.691766Z",
     "shell.execute_reply": "2025-01-16T03:59:13.690765Z"
    },
    "papermill": {
     "duration": 1.517324,
     "end_time": "2025-01-16T03:59:13.693175",
     "exception": false,
     "start_time": "2025-01-16T03:59:12.175851",
     "status": "completed"
    },
    "tags": []
   },
   "outputs": [
    {
     "name": "stdout",
     "output_type": "stream",
     "text": [
      "\n",
      "Removed columns : \n",
      "['ID', 'Source', 'Start_Time', 'End_Time', 'Start_Lat', 'Start_Lng', 'End_Lat', 'End_Lng', 'Distance(mi)', 'Description', 'Street', 'City', 'County', 'State', 'Zipcode', 'Country', 'Timezone', 'Airport_Code', 'Weather_Timestamp', 'Sunrise_Sunset', 'Civil_Twilight', 'Nautical_Twilight', 'Astronomical_Twilight']\n",
      "\n",
      "Selected columns : \n",
      "Index(['Severity', 'Temperature(F)', 'Wind_Chill(F)', 'Humidity(%)',\n",
      "       'Pressure(in)', 'Visibility(mi)', 'Wind_Direction', 'Wind_Speed(mph)',\n",
      "       'Precipitation(in)', 'Weather_Condition', 'Amenity', 'Bump', 'Crossing',\n",
      "       'Give_Way', 'Junction', 'No_Exit', 'Railway', 'Roundabout', 'Station',\n",
      "       'Stop', 'Traffic_Calming', 'Traffic_Signal', 'Turning_Loop'],\n",
      "      dtype='object')\n"
     ]
    }
   ],
   "source": [
    "Notkeep = [d for d in data.columns if d not in ['Severity','Temperature(F)','Wind_Chill(F)',\n",
    "                                              'Humidity(%)','Pressure(in)','Visibility(mi)','Wind_Direction','Wind_Speed(mph)',\n",
    "                                              'Precipitation(in)','Weather_Condition', 'Amenity', 'Bump', 'Crossing', 'Give_Way', \n",
    "                                              'Junction', 'No_Exit', 'Railway', 'Roundabout', 'Station', 'Stop', 'Traffic_Calming', \n",
    "                                              'Traffic_Signal', 'Turning_Loop']]\n",
    "print(\"\\nRemoved columns : \");\n",
    "print(Notkeep);\n",
    "data    = data.drop(columns=Notkeep)\n",
    "print(\"\\nSelected columns : \");\n",
    "print(data.columns);"
   ]
  },
  {
   "cell_type": "code",
   "execution_count": 6,
   "id": "97c626bc",
   "metadata": {
    "execution": {
     "iopub.execute_input": "2025-01-16T03:59:13.701825Z",
     "iopub.status.busy": "2025-01-16T03:59:13.701567Z",
     "iopub.status.idle": "2025-01-16T03:59:14.434864Z",
     "shell.execute_reply": "2025-01-16T03:59:14.434010Z"
    },
    "papermill": {
     "duration": 0.738953,
     "end_time": "2025-01-16T03:59:14.436226",
     "exception": false,
     "start_time": "2025-01-16T03:59:13.697273",
     "status": "completed"
    },
    "tags": []
   },
   "outputs": [
    {
     "data": {
      "text/plain": [
       "Severity                   0\n",
       "Temperature(F)        163853\n",
       "Wind_Chill(F)        1999019\n",
       "Humidity(%)           174144\n",
       "Pressure(in)          140679\n",
       "Visibility(mi)        177098\n",
       "Wind_Direction        175206\n",
       "Wind_Speed(mph)       571233\n",
       "Precipitation(in)    2203586\n",
       "Weather_Condition     173459\n",
       "Amenity                    0\n",
       "Bump                       0\n",
       "Crossing                   0\n",
       "Give_Way                   0\n",
       "Junction                   0\n",
       "No_Exit                    0\n",
       "Railway                    0\n",
       "Roundabout                 0\n",
       "Station                    0\n",
       "Stop                       0\n",
       "Traffic_Calming            0\n",
       "Traffic_Signal             0\n",
       "Turning_Loop               0\n",
       "dtype: int64"
      ]
     },
     "execution_count": 6,
     "metadata": {},
     "output_type": "execute_result"
    }
   ],
   "source": [
    "data.isna().sum()"
   ]
  },
  {
   "cell_type": "code",
   "execution_count": 7,
   "id": "7e717124",
   "metadata": {
    "execution": {
     "iopub.execute_input": "2025-01-16T03:59:14.445303Z",
     "iopub.status.busy": "2025-01-16T03:59:14.445058Z",
     "iopub.status.idle": "2025-01-16T03:59:15.540745Z",
     "shell.execute_reply": "2025-01-16T03:59:15.539740Z"
    },
    "papermill": {
     "duration": 1.101852,
     "end_time": "2025-01-16T03:59:15.542471",
     "exception": false,
     "start_time": "2025-01-16T03:59:14.440619",
     "status": "completed"
    },
    "tags": []
   },
   "outputs": [],
   "source": [
    "data.dropna(inplace=True)"
   ]
  },
  {
   "cell_type": "code",
   "execution_count": 8,
   "id": "7635241a",
   "metadata": {
    "execution": {
     "iopub.execute_input": "2025-01-16T03:59:15.551608Z",
     "iopub.status.busy": "2025-01-16T03:59:15.551322Z",
     "iopub.status.idle": "2025-01-16T03:59:16.046325Z",
     "shell.execute_reply": "2025-01-16T03:59:16.045564Z"
    },
    "papermill": {
     "duration": 0.500885,
     "end_time": "2025-01-16T03:59:16.047652",
     "exception": false,
     "start_time": "2025-01-16T03:59:15.546767",
     "status": "completed"
    },
    "tags": []
   },
   "outputs": [
    {
     "data": {
      "text/plain": [
       "Severity             0\n",
       "Temperature(F)       0\n",
       "Wind_Chill(F)        0\n",
       "Humidity(%)          0\n",
       "Pressure(in)         0\n",
       "Visibility(mi)       0\n",
       "Wind_Direction       0\n",
       "Wind_Speed(mph)      0\n",
       "Precipitation(in)    0\n",
       "Weather_Condition    0\n",
       "Amenity              0\n",
       "Bump                 0\n",
       "Crossing             0\n",
       "Give_Way             0\n",
       "Junction             0\n",
       "No_Exit              0\n",
       "Railway              0\n",
       "Roundabout           0\n",
       "Station              0\n",
       "Stop                 0\n",
       "Traffic_Calming      0\n",
       "Traffic_Signal       0\n",
       "Turning_Loop         0\n",
       "dtype: int64"
      ]
     },
     "execution_count": 8,
     "metadata": {},
     "output_type": "execute_result"
    }
   ],
   "source": [
    "data.isna().sum()"
   ]
  },
  {
   "cell_type": "code",
   "execution_count": 9,
   "id": "9106f280",
   "metadata": {
    "execution": {
     "iopub.execute_input": "2025-01-16T03:59:16.056545Z",
     "iopub.status.busy": "2025-01-16T03:59:16.056328Z",
     "iopub.status.idle": "2025-01-16T03:59:16.090734Z",
     "shell.execute_reply": "2025-01-16T03:59:16.090098Z"
    },
    "papermill": {
     "duration": 0.040219,
     "end_time": "2025-01-16T03:59:16.092100",
     "exception": false,
     "start_time": "2025-01-16T03:59:16.051881",
     "status": "completed"
    },
    "tags": []
   },
   "outputs": [
    {
     "data": {
      "text/plain": [
       "Severity\n",
       "2    4463834\n",
       "3     584498\n",
       "4     127017\n",
       "1      62227\n",
       "Name: count, dtype: int64"
      ]
     },
     "execution_count": 9,
     "metadata": {},
     "output_type": "execute_result"
    }
   ],
   "source": [
    "severity_counts = data['Severity'].value_counts()\n",
    "severity_counts"
   ]
  },
  {
   "cell_type": "code",
   "execution_count": 10,
   "id": "2320e32a",
   "metadata": {
    "execution": {
     "iopub.execute_input": "2025-01-16T03:59:16.100976Z",
     "iopub.status.busy": "2025-01-16T03:59:16.100742Z",
     "iopub.status.idle": "2025-01-16T03:59:19.101475Z",
     "shell.execute_reply": "2025-01-16T03:59:19.100649Z"
    },
    "papermill": {
     "duration": 3.006598,
     "end_time": "2025-01-16T03:59:19.102799",
     "exception": false,
     "start_time": "2025-01-16T03:59:16.096201",
     "status": "completed"
    },
    "tags": []
   },
   "outputs": [
    {
     "name": "stdout",
     "output_type": "stream",
     "text": [
      "Severity\n",
      "2    933405\n",
      "1    933405\n",
      "3    933405\n",
      "4    933405\n",
      "Name: count, dtype: int64\n"
     ]
    }
   ],
   "source": [
    "# Find the size of the smallest class\n",
    "min_size = data['Severity'].value_counts().min()\n",
    "\n",
    "# Set the target size to be 20 times the smallest class size\n",
    "target_size = min_size * 15\n",
    "\n",
    "# Function to balance the classes\n",
    "def balance_class_sizes(data, target_size):\n",
    "    dfs_resampled = []\n",
    "    \n",
    "    for severity in data['Severity'].unique():\n",
    "        class_df = data[data['Severity'] == severity]\n",
    "        class_size = len(class_df)\n",
    "        \n",
    "        if class_size < target_size:\n",
    "            # If class size is smaller than the target size, duplicate rows randomly\n",
    "            class_resampled = resample(class_df, replace=True, n_samples=target_size, random_state=42)\n",
    "        elif class_size > target_size:\n",
    "            # If class size is larger than the target size, randomly remove rows\n",
    "            class_resampled = resample(class_df, replace=False, n_samples=target_size, random_state=42)\n",
    "        else:\n",
    "            # If class size is already equal to the target size, keep it as is\n",
    "            class_resampled = class_df\n",
    "        \n",
    "        dfs_resampled.append(class_resampled)\n",
    "    \n",
    "    # Concatenate the resampled dataframes\n",
    "    balanced_df = pd.concat(dfs_resampled)\n",
    "    \n",
    "    # Shuffle the dataframe (optional but recommended for randomness)\n",
    "    balanced_df = balanced_df.sample(frac=1, random_state=42).reset_index(drop=True)\n",
    "    \n",
    "    return balanced_df\n",
    "\n",
    "# Balance the classes\n",
    "balanced_df = balance_class_sizes(data, target_size)\n",
    "\n",
    "# Check the new distribution of the classes\n",
    "print(balanced_df['Severity'].value_counts())\n"
   ]
  },
  {
   "cell_type": "code",
   "execution_count": 11,
   "id": "e8a54483",
   "metadata": {
    "execution": {
     "iopub.execute_input": "2025-01-16T03:59:19.112503Z",
     "iopub.status.busy": "2025-01-16T03:59:19.112246Z",
     "iopub.status.idle": "2025-01-16T03:59:19.138650Z",
     "shell.execute_reply": "2025-01-16T03:59:19.138040Z"
    },
    "papermill": {
     "duration": 0.032446,
     "end_time": "2025-01-16T03:59:19.139834",
     "exception": false,
     "start_time": "2025-01-16T03:59:19.107388",
     "status": "completed"
    },
    "tags": []
   },
   "outputs": [],
   "source": [
    "del data"
   ]
  },
  {
   "cell_type": "code",
   "execution_count": 12,
   "id": "d3e34e23",
   "metadata": {
    "execution": {
     "iopub.execute_input": "2025-01-16T03:59:19.149023Z",
     "iopub.status.busy": "2025-01-16T03:59:19.148769Z",
     "iopub.status.idle": "2025-01-16T03:59:19.764851Z",
     "shell.execute_reply": "2025-01-16T03:59:19.764023Z"
    },
    "papermill": {
     "duration": 0.622133,
     "end_time": "2025-01-16T03:59:19.766315",
     "exception": false,
     "start_time": "2025-01-16T03:59:19.144182",
     "status": "completed"
    },
    "tags": []
   },
   "outputs": [
    {
     "data": {
      "text/html": [
       "<div>\n",
       "<style scoped>\n",
       "    .dataframe tbody tr th:only-of-type {\n",
       "        vertical-align: middle;\n",
       "    }\n",
       "\n",
       "    .dataframe tbody tr th {\n",
       "        vertical-align: top;\n",
       "    }\n",
       "\n",
       "    .dataframe thead th {\n",
       "        text-align: right;\n",
       "    }\n",
       "</style>\n",
       "<table border=\"1\" class=\"dataframe\">\n",
       "  <thead>\n",
       "    <tr style=\"text-align: right;\">\n",
       "      <th></th>\n",
       "      <th>Severity</th>\n",
       "      <th>Temperature(F)</th>\n",
       "      <th>Wind_Chill(F)</th>\n",
       "      <th>Humidity(%)</th>\n",
       "      <th>Pressure(in)</th>\n",
       "      <th>Visibility(mi)</th>\n",
       "      <th>Wind_Direction</th>\n",
       "      <th>Wind_Speed(mph)</th>\n",
       "      <th>Precipitation(in)</th>\n",
       "      <th>Weather_Condition</th>\n",
       "      <th>...</th>\n",
       "      <th>Give_Way</th>\n",
       "      <th>Junction</th>\n",
       "      <th>No_Exit</th>\n",
       "      <th>Railway</th>\n",
       "      <th>Roundabout</th>\n",
       "      <th>Station</th>\n",
       "      <th>Stop</th>\n",
       "      <th>Traffic_Calming</th>\n",
       "      <th>Traffic_Signal</th>\n",
       "      <th>Turning_Loop</th>\n",
       "    </tr>\n",
       "  </thead>\n",
       "  <tbody>\n",
       "    <tr>\n",
       "      <th>0</th>\n",
       "      <td>2</td>\n",
       "      <td>56.0</td>\n",
       "      <td>56.0</td>\n",
       "      <td>64.0</td>\n",
       "      <td>29.71</td>\n",
       "      <td>10.0</td>\n",
       "      <td>W</td>\n",
       "      <td>6.0</td>\n",
       "      <td>0.00</td>\n",
       "      <td>Fair</td>\n",
       "      <td>...</td>\n",
       "      <td>False</td>\n",
       "      <td>False</td>\n",
       "      <td>False</td>\n",
       "      <td>False</td>\n",
       "      <td>False</td>\n",
       "      <td>False</td>\n",
       "      <td>False</td>\n",
       "      <td>False</td>\n",
       "      <td>False</td>\n",
       "      <td>False</td>\n",
       "    </tr>\n",
       "    <tr>\n",
       "      <th>1</th>\n",
       "      <td>1</td>\n",
       "      <td>86.0</td>\n",
       "      <td>86.0</td>\n",
       "      <td>48.0</td>\n",
       "      <td>29.11</td>\n",
       "      <td>10.0</td>\n",
       "      <td>CALM</td>\n",
       "      <td>0.0</td>\n",
       "      <td>0.00</td>\n",
       "      <td>Fair</td>\n",
       "      <td>...</td>\n",
       "      <td>False</td>\n",
       "      <td>False</td>\n",
       "      <td>False</td>\n",
       "      <td>False</td>\n",
       "      <td>False</td>\n",
       "      <td>False</td>\n",
       "      <td>False</td>\n",
       "      <td>False</td>\n",
       "      <td>True</td>\n",
       "      <td>False</td>\n",
       "    </tr>\n",
       "    <tr>\n",
       "      <th>2</th>\n",
       "      <td>2</td>\n",
       "      <td>80.0</td>\n",
       "      <td>80.0</td>\n",
       "      <td>85.0</td>\n",
       "      <td>29.21</td>\n",
       "      <td>10.0</td>\n",
       "      <td>NW</td>\n",
       "      <td>6.0</td>\n",
       "      <td>0.00</td>\n",
       "      <td>Mostly Cloudy</td>\n",
       "      <td>...</td>\n",
       "      <td>False</td>\n",
       "      <td>False</td>\n",
       "      <td>False</td>\n",
       "      <td>False</td>\n",
       "      <td>False</td>\n",
       "      <td>False</td>\n",
       "      <td>False</td>\n",
       "      <td>False</td>\n",
       "      <td>False</td>\n",
       "      <td>False</td>\n",
       "    </tr>\n",
       "    <tr>\n",
       "      <th>3</th>\n",
       "      <td>2</td>\n",
       "      <td>78.0</td>\n",
       "      <td>78.0</td>\n",
       "      <td>54.0</td>\n",
       "      <td>30.12</td>\n",
       "      <td>10.0</td>\n",
       "      <td>ENE</td>\n",
       "      <td>15.0</td>\n",
       "      <td>0.00</td>\n",
       "      <td>Fair</td>\n",
       "      <td>...</td>\n",
       "      <td>False</td>\n",
       "      <td>False</td>\n",
       "      <td>False</td>\n",
       "      <td>False</td>\n",
       "      <td>False</td>\n",
       "      <td>False</td>\n",
       "      <td>False</td>\n",
       "      <td>False</td>\n",
       "      <td>False</td>\n",
       "      <td>False</td>\n",
       "    </tr>\n",
       "    <tr>\n",
       "      <th>4</th>\n",
       "      <td>1</td>\n",
       "      <td>71.0</td>\n",
       "      <td>71.0</td>\n",
       "      <td>93.0</td>\n",
       "      <td>29.91</td>\n",
       "      <td>10.0</td>\n",
       "      <td>NE</td>\n",
       "      <td>3.0</td>\n",
       "      <td>0.00</td>\n",
       "      <td>Mostly Cloudy</td>\n",
       "      <td>...</td>\n",
       "      <td>False</td>\n",
       "      <td>False</td>\n",
       "      <td>False</td>\n",
       "      <td>False</td>\n",
       "      <td>False</td>\n",
       "      <td>False</td>\n",
       "      <td>False</td>\n",
       "      <td>False</td>\n",
       "      <td>False</td>\n",
       "      <td>False</td>\n",
       "    </tr>\n",
       "    <tr>\n",
       "      <th>...</th>\n",
       "      <td>...</td>\n",
       "      <td>...</td>\n",
       "      <td>...</td>\n",
       "      <td>...</td>\n",
       "      <td>...</td>\n",
       "      <td>...</td>\n",
       "      <td>...</td>\n",
       "      <td>...</td>\n",
       "      <td>...</td>\n",
       "      <td>...</td>\n",
       "      <td>...</td>\n",
       "      <td>...</td>\n",
       "      <td>...</td>\n",
       "      <td>...</td>\n",
       "      <td>...</td>\n",
       "      <td>...</td>\n",
       "      <td>...</td>\n",
       "      <td>...</td>\n",
       "      <td>...</td>\n",
       "      <td>...</td>\n",
       "      <td>...</td>\n",
       "    </tr>\n",
       "    <tr>\n",
       "      <th>3733615</th>\n",
       "      <td>1</td>\n",
       "      <td>75.0</td>\n",
       "      <td>75.0</td>\n",
       "      <td>90.0</td>\n",
       "      <td>29.18</td>\n",
       "      <td>7.0</td>\n",
       "      <td>ESE</td>\n",
       "      <td>14.0</td>\n",
       "      <td>0.16</td>\n",
       "      <td>Light Rain with Thunder</td>\n",
       "      <td>...</td>\n",
       "      <td>False</td>\n",
       "      <td>False</td>\n",
       "      <td>False</td>\n",
       "      <td>False</td>\n",
       "      <td>False</td>\n",
       "      <td>False</td>\n",
       "      <td>False</td>\n",
       "      <td>False</td>\n",
       "      <td>True</td>\n",
       "      <td>False</td>\n",
       "    </tr>\n",
       "    <tr>\n",
       "      <th>3733616</th>\n",
       "      <td>4</td>\n",
       "      <td>52.0</td>\n",
       "      <td>52.0</td>\n",
       "      <td>89.0</td>\n",
       "      <td>30.15</td>\n",
       "      <td>10.0</td>\n",
       "      <td>SSW</td>\n",
       "      <td>7.0</td>\n",
       "      <td>0.00</td>\n",
       "      <td>Cloudy</td>\n",
       "      <td>...</td>\n",
       "      <td>False</td>\n",
       "      <td>False</td>\n",
       "      <td>False</td>\n",
       "      <td>False</td>\n",
       "      <td>False</td>\n",
       "      <td>False</td>\n",
       "      <td>False</td>\n",
       "      <td>False</td>\n",
       "      <td>True</td>\n",
       "      <td>False</td>\n",
       "    </tr>\n",
       "    <tr>\n",
       "      <th>3733617</th>\n",
       "      <td>1</td>\n",
       "      <td>71.0</td>\n",
       "      <td>71.0</td>\n",
       "      <td>81.0</td>\n",
       "      <td>28.69</td>\n",
       "      <td>10.0</td>\n",
       "      <td>E</td>\n",
       "      <td>7.0</td>\n",
       "      <td>0.00</td>\n",
       "      <td>Fair</td>\n",
       "      <td>...</td>\n",
       "      <td>False</td>\n",
       "      <td>False</td>\n",
       "      <td>False</td>\n",
       "      <td>False</td>\n",
       "      <td>False</td>\n",
       "      <td>False</td>\n",
       "      <td>False</td>\n",
       "      <td>False</td>\n",
       "      <td>False</td>\n",
       "      <td>False</td>\n",
       "    </tr>\n",
       "    <tr>\n",
       "      <th>3733618</th>\n",
       "      <td>1</td>\n",
       "      <td>84.0</td>\n",
       "      <td>84.0</td>\n",
       "      <td>74.0</td>\n",
       "      <td>30.01</td>\n",
       "      <td>10.0</td>\n",
       "      <td>ENE</td>\n",
       "      <td>6.0</td>\n",
       "      <td>0.00</td>\n",
       "      <td>Fair</td>\n",
       "      <td>...</td>\n",
       "      <td>False</td>\n",
       "      <td>False</td>\n",
       "      <td>False</td>\n",
       "      <td>False</td>\n",
       "      <td>False</td>\n",
       "      <td>False</td>\n",
       "      <td>False</td>\n",
       "      <td>False</td>\n",
       "      <td>False</td>\n",
       "      <td>False</td>\n",
       "    </tr>\n",
       "    <tr>\n",
       "      <th>3733619</th>\n",
       "      <td>1</td>\n",
       "      <td>74.0</td>\n",
       "      <td>74.0</td>\n",
       "      <td>19.0</td>\n",
       "      <td>28.69</td>\n",
       "      <td>10.0</td>\n",
       "      <td>SW</td>\n",
       "      <td>8.0</td>\n",
       "      <td>0.00</td>\n",
       "      <td>Fair</td>\n",
       "      <td>...</td>\n",
       "      <td>False</td>\n",
       "      <td>False</td>\n",
       "      <td>False</td>\n",
       "      <td>False</td>\n",
       "      <td>False</td>\n",
       "      <td>False</td>\n",
       "      <td>False</td>\n",
       "      <td>False</td>\n",
       "      <td>True</td>\n",
       "      <td>False</td>\n",
       "    </tr>\n",
       "  </tbody>\n",
       "</table>\n",
       "<p>3733620 rows × 23 columns</p>\n",
       "</div>"
      ],
      "text/plain": [
       "         Severity  Temperature(F)  Wind_Chill(F)  Humidity(%)  Pressure(in)  \\\n",
       "0               2            56.0           56.0         64.0         29.71   \n",
       "1               1            86.0           86.0         48.0         29.11   \n",
       "2               2            80.0           80.0         85.0         29.21   \n",
       "3               2            78.0           78.0         54.0         30.12   \n",
       "4               1            71.0           71.0         93.0         29.91   \n",
       "...           ...             ...            ...          ...           ...   \n",
       "3733615         1            75.0           75.0         90.0         29.18   \n",
       "3733616         4            52.0           52.0         89.0         30.15   \n",
       "3733617         1            71.0           71.0         81.0         28.69   \n",
       "3733618         1            84.0           84.0         74.0         30.01   \n",
       "3733619         1            74.0           74.0         19.0         28.69   \n",
       "\n",
       "         Visibility(mi) Wind_Direction  Wind_Speed(mph)  Precipitation(in)  \\\n",
       "0                  10.0              W              6.0               0.00   \n",
       "1                  10.0           CALM              0.0               0.00   \n",
       "2                  10.0             NW              6.0               0.00   \n",
       "3                  10.0            ENE             15.0               0.00   \n",
       "4                  10.0             NE              3.0               0.00   \n",
       "...                 ...            ...              ...                ...   \n",
       "3733615             7.0            ESE             14.0               0.16   \n",
       "3733616            10.0            SSW              7.0               0.00   \n",
       "3733617            10.0              E              7.0               0.00   \n",
       "3733618            10.0            ENE              6.0               0.00   \n",
       "3733619            10.0             SW              8.0               0.00   \n",
       "\n",
       "               Weather_Condition  ...  Give_Way  Junction  No_Exit  Railway  \\\n",
       "0                           Fair  ...     False     False    False    False   \n",
       "1                           Fair  ...     False     False    False    False   \n",
       "2                  Mostly Cloudy  ...     False     False    False    False   \n",
       "3                           Fair  ...     False     False    False    False   \n",
       "4                  Mostly Cloudy  ...     False     False    False    False   \n",
       "...                          ...  ...       ...       ...      ...      ...   \n",
       "3733615  Light Rain with Thunder  ...     False     False    False    False   \n",
       "3733616                   Cloudy  ...     False     False    False    False   \n",
       "3733617                     Fair  ...     False     False    False    False   \n",
       "3733618                     Fair  ...     False     False    False    False   \n",
       "3733619                     Fair  ...     False     False    False    False   \n",
       "\n",
       "         Roundabout  Station   Stop  Traffic_Calming  Traffic_Signal  \\\n",
       "0             False    False  False            False           False   \n",
       "1             False    False  False            False            True   \n",
       "2             False    False  False            False           False   \n",
       "3             False    False  False            False           False   \n",
       "4             False    False  False            False           False   \n",
       "...             ...      ...    ...              ...             ...   \n",
       "3733615       False    False  False            False            True   \n",
       "3733616       False    False  False            False            True   \n",
       "3733617       False    False  False            False           False   \n",
       "3733618       False    False  False            False           False   \n",
       "3733619       False    False  False            False            True   \n",
       "\n",
       "         Turning_Loop  \n",
       "0               False  \n",
       "1               False  \n",
       "2               False  \n",
       "3               False  \n",
       "4               False  \n",
       "...               ...  \n",
       "3733615         False  \n",
       "3733616         False  \n",
       "3733617         False  \n",
       "3733618         False  \n",
       "3733619         False  \n",
       "\n",
       "[3733620 rows x 23 columns]"
      ]
     },
     "execution_count": 12,
     "metadata": {},
     "output_type": "execute_result"
    }
   ],
   "source": [
    "balanced_df"
   ]
  },
  {
   "cell_type": "code",
   "execution_count": 13,
   "id": "b2e520c5",
   "metadata": {
    "execution": {
     "iopub.execute_input": "2025-01-16T03:59:19.776315Z",
     "iopub.status.busy": "2025-01-16T03:59:19.776090Z",
     "iopub.status.idle": "2025-01-16T03:59:30.222323Z",
     "shell.execute_reply": "2025-01-16T03:59:30.221598Z"
    },
    "papermill": {
     "duration": 10.452769,
     "end_time": "2025-01-16T03:59:30.223805",
     "exception": false,
     "start_time": "2025-01-16T03:59:19.771036",
     "status": "completed"
    },
    "tags": []
   },
   "outputs": [
    {
     "name": "stderr",
     "output_type": "stream",
     "text": [
      "/usr/local/lib/python3.10/dist-packages/sklearn/preprocessing/_encoders.py:868: FutureWarning: `sparse` was renamed to `sparse_output` in version 1.2 and will be removed in 1.4. `sparse_output` is ignored unless you leave `sparse` to its default value.\n",
      "  warnings.warn(\n"
     ]
    }
   ],
   "source": [
    "# Preprocessing\n",
    "categorical_features = ['Wind_Direction', 'Weather_Condition']\n",
    "numerical_features = ['Temperature(F)', 'Wind_Chill(F)', 'Humidity(%)', 'Pressure(in)',\n",
    "                      'Visibility(mi)', 'Wind_Speed(mph)', 'Precipitation(in)']\n",
    "target = 'Severity'\n",
    "\n",
    "# List of boolean columns\n",
    "boolean_features = ['Amenity', 'Bump', 'Crossing', 'Give_Way', \n",
    "                    'Junction', 'No_Exit', 'Railway', 'Roundabout', \n",
    "                    'Station', 'Stop', 'Traffic_Calming', 'Traffic_Signal', 'Turning_Loop']\n",
    "\n",
    "# Convert boolean columns to numeric (True -> 1, False -> 0)\n",
    "balanced_df[boolean_features] = balanced_df[boolean_features].astype(int)\n",
    "\n",
    "# One-hot encode categorical features\n",
    "encoder = OneHotEncoder(sparse=False)\n",
    "categorical_data = encoder.fit_transform(balanced_df[categorical_features])\n",
    "\n",
    "# Normalize numerical features\n",
    "scaler = StandardScaler()\n",
    "numerical_data = scaler.fit_transform(balanced_df[numerical_features])\n",
    "\n",
    "# Combine the boolean data, categorical data (one-hot encoded), and numerical data\n",
    "boolean_data = balanced_df[boolean_features].values\n",
    "\n",
    "# Combine all features\n",
    "X = np.hstack((numerical_data, categorical_data, boolean_data))\n",
    "y = balanced_df[target].values"
   ]
  },
  {
   "cell_type": "code",
   "execution_count": 14,
   "id": "ce24f503",
   "metadata": {
    "execution": {
     "iopub.execute_input": "2025-01-16T03:59:30.234539Z",
     "iopub.status.busy": "2025-01-16T03:59:30.234285Z",
     "iopub.status.idle": "2025-01-16T03:59:32.187072Z",
     "shell.execute_reply": "2025-01-16T03:59:32.186365Z"
    },
    "papermill": {
     "duration": 1.959451,
     "end_time": "2025-01-16T03:59:32.188622",
     "exception": false,
     "start_time": "2025-01-16T03:59:30.229171",
     "status": "completed"
    },
    "tags": []
   },
   "outputs": [],
   "source": [
    "X_train, X_test, y_train, y_test = train_test_split(X, y, test_size=0.2, random_state=42)"
   ]
  },
  {
   "cell_type": "code",
   "execution_count": 15,
   "id": "049dbd40",
   "metadata": {
    "execution": {
     "iopub.execute_input": "2025-01-16T03:59:32.199113Z",
     "iopub.status.busy": "2025-01-16T03:59:32.198815Z",
     "iopub.status.idle": "2025-01-16T03:59:32.611326Z",
     "shell.execute_reply": "2025-01-16T03:59:32.610343Z"
    },
    "papermill": {
     "duration": 0.419005,
     "end_time": "2025-01-16T03:59:32.612644",
     "exception": false,
     "start_time": "2025-01-16T03:59:32.193639",
     "status": "completed"
    },
    "tags": []
   },
   "outputs": [
    {
     "name": "stderr",
     "output_type": "stream",
     "text": [
      "/usr/local/lib/python3.10/dist-packages/keras/src/layers/core/dense.py:87: UserWarning: Do not pass an `input_shape`/`input_dim` argument to a layer. When using Sequential models, prefer using an `Input(shape)` object as the first layer in the model instead.\n",
      "  super().__init__(activity_regularizer=activity_regularizer, **kwargs)\n"
     ]
    }
   ],
   "source": [
    "from tensorflow.keras import layers, Sequential, regularizers\n",
    "\n",
    "# Define the improved model\n",
    "model = Sequential([\n",
    "    # Input and First Hidden Layer\n",
    "    layers.Dense(512, activation='relu', input_shape=(X_train.shape[1],),\n",
    "                 kernel_regularizer=regularizers.l2(1e-4)),  # Larger initial layer with L2 regularization\n",
    "    layers.BatchNormalization(),  # Normalizes activations\n",
    "    layers.Dropout(0.3),  # Moderate dropout for the first layer\n",
    "\n",
    "    # Second Hidden Layer\n",
    "    layers.Dense(256, activation='relu', \n",
    "                 kernel_regularizer=regularizers.l2(1e-4)),  # Smaller size, keeping L2 regularization\n",
    "    layers.BatchNormalization(),\n",
    "    layers.Dropout(0.3),\n",
    "\n",
    "    # Third Hidden Layer\n",
    "    layers.Dense(128, activation='relu', \n",
    "                 kernel_regularizer=regularizers.l2(1e-4)),  # Continue reducing size for feature extraction\n",
    "    layers.BatchNormalization(),\n",
    "    layers.Dropout(0.3),\n",
    "\n",
    "    # Fourth Hidden Layer\n",
    "    layers.Dense(64, activation='relu', \n",
    "                 kernel_regularizer=regularizers.l2(1e-4)),  # Final smaller hidden layer\n",
    "    layers.BatchNormalization(),\n",
    "    layers.Dropout(0.2),  # Lower dropout at deeper layers\n",
    "\n",
    "    # Output Layer\n",
    "    layers.Dense(1, activation='linear')  # Regression output layer\n",
    "])\n"
   ]
  },
  {
   "cell_type": "code",
   "execution_count": 16,
   "id": "d0a66f51",
   "metadata": {
    "execution": {
     "iopub.execute_input": "2025-01-16T03:59:32.623239Z",
     "iopub.status.busy": "2025-01-16T03:59:32.622996Z",
     "iopub.status.idle": "2025-01-16T03:59:32.634184Z",
     "shell.execute_reply": "2025-01-16T03:59:32.633584Z"
    },
    "papermill": {
     "duration": 0.017952,
     "end_time": "2025-01-16T03:59:32.635407",
     "exception": false,
     "start_time": "2025-01-16T03:59:32.617455",
     "status": "completed"
    },
    "tags": []
   },
   "outputs": [],
   "source": [
    "optimizer = tf.keras.optimizers.Adam(learning_rate=0.00001)\n",
    "model.compile(optimizer=optimizer, loss='mse', metrics=['mae'])"
   ]
  },
  {
   "cell_type": "code",
   "execution_count": 17,
   "id": "ecb53864",
   "metadata": {
    "execution": {
     "iopub.execute_input": "2025-01-16T03:59:32.645125Z",
     "iopub.status.busy": "2025-01-16T03:59:32.644877Z",
     "iopub.status.idle": "2025-01-16T06:18:14.722840Z",
     "shell.execute_reply": "2025-01-16T06:18:14.721834Z"
    },
    "papermill": {
     "duration": 8322.084528,
     "end_time": "2025-01-16T06:18:14.724510",
     "exception": false,
     "start_time": "2025-01-16T03:59:32.639982",
     "status": "completed"
    },
    "tags": []
   },
   "outputs": [
    {
     "name": "stdout",
     "output_type": "stream",
     "text": [
      "Epoch 1/50\n",
      "\u001b[1m74673/74673\u001b[0m \u001b[32m━━━━━━━━━━━━━━━━━━━━\u001b[0m\u001b[37m\u001b[0m \u001b[1m175s\u001b[0m 2ms/step - loss: 4.2300 - mae: 1.5960 - val_loss: 1.1343 - val_mae: 0.8789\n",
      "Epoch 2/50\n",
      "\u001b[1m74673/74673\u001b[0m \u001b[32m━━━━━━━━━━━━━━━━━━━━\u001b[0m\u001b[37m\u001b[0m \u001b[1m166s\u001b[0m 2ms/step - loss: 1.3139 - mae: 0.9345 - val_loss: 1.1014 - val_mae: 0.8662\n",
      "Epoch 3/50\n",
      "\u001b[1m74673/74673\u001b[0m \u001b[32m━━━━━━━━━━━━━━━━━━━━\u001b[0m\u001b[37m\u001b[0m \u001b[1m165s\u001b[0m 2ms/step - loss: 1.2019 - mae: 0.9011 - val_loss: 1.0878 - val_mae: 0.8590\n",
      "Epoch 4/50\n",
      "\u001b[1m74673/74673\u001b[0m \u001b[32m━━━━━━━━━━━━━━━━━━━━\u001b[0m\u001b[37m\u001b[0m \u001b[1m165s\u001b[0m 2ms/step - loss: 1.1594 - mae: 0.8883 - val_loss: 1.0777 - val_mae: 0.8549\n",
      "Epoch 5/50\n",
      "\u001b[1m74673/74673\u001b[0m \u001b[32m━━━━━━━━━━━━━━━━━━━━\u001b[0m\u001b[37m\u001b[0m \u001b[1m165s\u001b[0m 2ms/step - loss: 1.1367 - mae: 0.8815 - val_loss: 1.0676 - val_mae: 0.8515\n",
      "Epoch 6/50\n",
      "\u001b[1m74673/74673\u001b[0m \u001b[32m━━━━━━━━━━━━━━━━━━━━\u001b[0m\u001b[37m\u001b[0m \u001b[1m166s\u001b[0m 2ms/step - loss: 1.1192 - mae: 0.8761 - val_loss: 1.0596 - val_mae: 0.8493\n",
      "Epoch 7/50\n",
      "\u001b[1m74673/74673\u001b[0m \u001b[32m━━━━━━━━━━━━━━━━━━━━\u001b[0m\u001b[37m\u001b[0m \u001b[1m166s\u001b[0m 2ms/step - loss: 1.1076 - mae: 0.8730 - val_loss: 1.0532 - val_mae: 0.8484\n",
      "Epoch 8/50\n",
      "\u001b[1m74673/74673\u001b[0m \u001b[32m━━━━━━━━━━━━━━━━━━━━\u001b[0m\u001b[37m\u001b[0m \u001b[1m166s\u001b[0m 2ms/step - loss: 1.0963 - mae: 0.8696 - val_loss: 1.0457 - val_mae: 0.8473\n",
      "Epoch 9/50\n",
      "\u001b[1m74673/74673\u001b[0m \u001b[32m━━━━━━━━━━━━━━━━━━━━\u001b[0m\u001b[37m\u001b[0m \u001b[1m167s\u001b[0m 2ms/step - loss: 1.0881 - mae: 0.8675 - val_loss: 1.0395 - val_mae: 0.8456\n",
      "Epoch 10/50\n",
      "\u001b[1m74673/74673\u001b[0m \u001b[32m━━━━━━━━━━━━━━━━━━━━\u001b[0m\u001b[37m\u001b[0m \u001b[1m166s\u001b[0m 2ms/step - loss: 1.0810 - mae: 0.8660 - val_loss: 1.0334 - val_mae: 0.8423\n",
      "Epoch 11/50\n",
      "\u001b[1m74673/74673\u001b[0m \u001b[32m━━━━━━━━━━━━━━━━━━━━\u001b[0m\u001b[37m\u001b[0m \u001b[1m166s\u001b[0m 2ms/step - loss: 1.0732 - mae: 0.8634 - val_loss: 1.0288 - val_mae: 0.8401\n",
      "Epoch 12/50\n",
      "\u001b[1m74673/74673\u001b[0m \u001b[32m━━━━━━━━━━━━━━━━━━━━\u001b[0m\u001b[37m\u001b[0m \u001b[1m165s\u001b[0m 2ms/step - loss: 1.0696 - mae: 0.8629 - val_loss: 1.0244 - val_mae: 0.8389\n",
      "Epoch 13/50\n",
      "\u001b[1m74673/74673\u001b[0m \u001b[32m━━━━━━━━━━━━━━━━━━━━\u001b[0m\u001b[37m\u001b[0m \u001b[1m166s\u001b[0m 2ms/step - loss: 1.0629 - mae: 0.8600 - val_loss: 1.0196 - val_mae: 0.8387\n",
      "Epoch 14/50\n",
      "\u001b[1m74673/74673\u001b[0m \u001b[32m━━━━━━━━━━━━━━━━━━━━\u001b[0m\u001b[37m\u001b[0m \u001b[1m166s\u001b[0m 2ms/step - loss: 1.0578 - mae: 0.8589 - val_loss: 1.0162 - val_mae: 0.8388\n",
      "Epoch 15/50\n",
      "\u001b[1m74673/74673\u001b[0m \u001b[32m━━━━━━━━━━━━━━━━━━━━\u001b[0m\u001b[37m\u001b[0m \u001b[1m167s\u001b[0m 2ms/step - loss: 1.0527 - mae: 0.8575 - val_loss: 1.0107 - val_mae: 0.8351\n",
      "Epoch 16/50\n",
      "\u001b[1m74673/74673\u001b[0m \u001b[32m━━━━━━━━━━━━━━━━━━━━\u001b[0m\u001b[37m\u001b[0m \u001b[1m166s\u001b[0m 2ms/step - loss: 1.0506 - mae: 0.8570 - val_loss: 1.0070 - val_mae: 0.8343\n",
      "Epoch 17/50\n",
      "\u001b[1m74673/74673\u001b[0m \u001b[32m━━━━━━━━━━━━━━━━━━━━\u001b[0m\u001b[37m\u001b[0m \u001b[1m166s\u001b[0m 2ms/step - loss: 1.0454 - mae: 0.8551 - val_loss: 1.0028 - val_mae: 0.8324\n",
      "Epoch 18/50\n",
      "\u001b[1m74673/74673\u001b[0m \u001b[32m━━━━━━━━━━━━━━━━━━━━\u001b[0m\u001b[37m\u001b[0m \u001b[1m165s\u001b[0m 2ms/step - loss: 1.0421 - mae: 0.8540 - val_loss: 1.0003 - val_mae: 0.8325\n",
      "Epoch 19/50\n",
      "\u001b[1m74673/74673\u001b[0m \u001b[32m━━━━━━━━━━━━━━━━━━━━\u001b[0m\u001b[37m\u001b[0m \u001b[1m166s\u001b[0m 2ms/step - loss: 1.0388 - mae: 0.8529 - val_loss: 0.9956 - val_mae: 0.8312\n",
      "Epoch 20/50\n",
      "\u001b[1m74673/74673\u001b[0m \u001b[32m━━━━━━━━━━━━━━━━━━━━\u001b[0m\u001b[37m\u001b[0m \u001b[1m167s\u001b[0m 2ms/step - loss: 1.0348 - mae: 0.8515 - val_loss: 0.9930 - val_mae: 0.8295\n",
      "Epoch 21/50\n",
      "\u001b[1m74673/74673\u001b[0m \u001b[32m━━━━━━━━━━━━━━━━━━━━\u001b[0m\u001b[37m\u001b[0m \u001b[1m166s\u001b[0m 2ms/step - loss: 1.0314 - mae: 0.8501 - val_loss: 0.9889 - val_mae: 0.8261\n",
      "Epoch 22/50\n",
      "\u001b[1m74673/74673\u001b[0m \u001b[32m━━━━━━━━━━━━━━━━━━━━\u001b[0m\u001b[37m\u001b[0m \u001b[1m167s\u001b[0m 2ms/step - loss: 1.0291 - mae: 0.8494 - val_loss: 0.9870 - val_mae: 0.8248\n",
      "Epoch 23/50\n",
      "\u001b[1m74673/74673\u001b[0m \u001b[32m━━━━━━━━━━━━━━━━━━━━\u001b[0m\u001b[37m\u001b[0m \u001b[1m167s\u001b[0m 2ms/step - loss: 1.0271 - mae: 0.8488 - val_loss: 0.9827 - val_mae: 0.8261\n",
      "Epoch 24/50\n",
      "\u001b[1m74673/74673\u001b[0m \u001b[32m━━━━━━━━━━━━━━━━━━━━\u001b[0m\u001b[37m\u001b[0m \u001b[1m166s\u001b[0m 2ms/step - loss: 1.0234 - mae: 0.8473 - val_loss: 0.9806 - val_mae: 0.8249\n",
      "Epoch 25/50\n",
      "\u001b[1m74673/74673\u001b[0m \u001b[32m━━━━━━━━━━━━━━━━━━━━\u001b[0m\u001b[37m\u001b[0m \u001b[1m167s\u001b[0m 2ms/step - loss: 1.0214 - mae: 0.8468 - val_loss: 0.9778 - val_mae: 0.8254\n",
      "Epoch 26/50\n",
      "\u001b[1m74673/74673\u001b[0m \u001b[32m━━━━━━━━━━━━━━━━━━━━\u001b[0m\u001b[37m\u001b[0m \u001b[1m166s\u001b[0m 2ms/step - loss: 1.0192 - mae: 0.8459 - val_loss: 0.9752 - val_mae: 0.8215\n",
      "Epoch 27/50\n",
      "\u001b[1m74673/74673\u001b[0m \u001b[32m━━━━━━━━━━━━━━━━━━━━\u001b[0m\u001b[37m\u001b[0m \u001b[1m166s\u001b[0m 2ms/step - loss: 1.0183 - mae: 0.8457 - val_loss: 0.9727 - val_mae: 0.8217\n",
      "Epoch 28/50\n",
      "\u001b[1m74673/74673\u001b[0m \u001b[32m━━━━━━━━━━━━━━━━━━━━\u001b[0m\u001b[37m\u001b[0m \u001b[1m166s\u001b[0m 2ms/step - loss: 1.0153 - mae: 0.8443 - val_loss: 0.9702 - val_mae: 0.8223\n",
      "Epoch 29/50\n",
      "\u001b[1m74673/74673\u001b[0m \u001b[32m━━━━━━━━━━━━━━━━━━━━\u001b[0m\u001b[37m\u001b[0m \u001b[1m166s\u001b[0m 2ms/step - loss: 1.0121 - mae: 0.8427 - val_loss: 0.9679 - val_mae: 0.8201\n",
      "Epoch 30/50\n",
      "\u001b[1m74673/74673\u001b[0m \u001b[32m━━━━━━━━━━━━━━━━━━━━\u001b[0m\u001b[37m\u001b[0m \u001b[1m166s\u001b[0m 2ms/step - loss: 1.0115 - mae: 0.8431 - val_loss: 0.9656 - val_mae: 0.8183\n",
      "Epoch 31/50\n",
      "\u001b[1m74673/74673\u001b[0m \u001b[32m━━━━━━━━━━━━━━━━━━━━\u001b[0m\u001b[37m\u001b[0m \u001b[1m166s\u001b[0m 2ms/step - loss: 1.0083 - mae: 0.8414 - val_loss: 0.9633 - val_mae: 0.8179\n",
      "Epoch 32/50\n",
      "\u001b[1m74673/74673\u001b[0m \u001b[32m━━━━━━━━━━━━━━━━━━━━\u001b[0m\u001b[37m\u001b[0m \u001b[1m167s\u001b[0m 2ms/step - loss: 1.0066 - mae: 0.8409 - val_loss: 0.9608 - val_mae: 0.8151\n",
      "Epoch 33/50\n",
      "\u001b[1m74673/74673\u001b[0m \u001b[32m━━━━━━━━━━━━━━━━━━━━\u001b[0m\u001b[37m\u001b[0m \u001b[1m166s\u001b[0m 2ms/step - loss: 1.0046 - mae: 0.8397 - val_loss: 0.9586 - val_mae: 0.8144\n",
      "Epoch 34/50\n",
      "\u001b[1m74673/74673\u001b[0m \u001b[32m━━━━━━━━━━━━━━━━━━━━\u001b[0m\u001b[37m\u001b[0m \u001b[1m168s\u001b[0m 2ms/step - loss: 1.0026 - mae: 0.8388 - val_loss: 0.9562 - val_mae: 0.8169\n",
      "Epoch 35/50\n",
      "\u001b[1m74673/74673\u001b[0m \u001b[32m━━━━━━━━━━━━━━━━━━━━\u001b[0m\u001b[37m\u001b[0m \u001b[1m166s\u001b[0m 2ms/step - loss: 1.0017 - mae: 0.8388 - val_loss: 0.9544 - val_mae: 0.8150\n",
      "Epoch 36/50\n",
      "\u001b[1m74673/74673\u001b[0m \u001b[32m━━━━━━━━━━━━━━━━━━━━\u001b[0m\u001b[37m\u001b[0m \u001b[1m167s\u001b[0m 2ms/step - loss: 0.9995 - mae: 0.8378 - val_loss: 0.9523 - val_mae: 0.8143\n",
      "Epoch 37/50\n",
      "\u001b[1m74673/74673\u001b[0m \u001b[32m━━━━━━━━━━━━━━━━━━━━\u001b[0m\u001b[37m\u001b[0m \u001b[1m167s\u001b[0m 2ms/step - loss: 0.9991 - mae: 0.8377 - val_loss: 0.9502 - val_mae: 0.8146\n",
      "Epoch 38/50\n",
      "\u001b[1m74673/74673\u001b[0m \u001b[32m━━━━━━━━━━━━━━━━━━━━\u001b[0m\u001b[37m\u001b[0m \u001b[1m167s\u001b[0m 2ms/step - loss: 0.9959 - mae: 0.8361 - val_loss: 0.9481 - val_mae: 0.8128\n",
      "Epoch 39/50\n",
      "\u001b[1m74673/74673\u001b[0m \u001b[32m━━━━━━━━━━━━━━━━━━━━\u001b[0m\u001b[37m\u001b[0m \u001b[1m166s\u001b[0m 2ms/step - loss: 0.9944 - mae: 0.8355 - val_loss: 0.9454 - val_mae: 0.8102\n",
      "Epoch 40/50\n",
      "\u001b[1m74673/74673\u001b[0m \u001b[32m━━━━━━━━━━━━━━━━━━━━\u001b[0m\u001b[37m\u001b[0m \u001b[1m165s\u001b[0m 2ms/step - loss: 0.9931 - mae: 0.8348 - val_loss: 0.9464 - val_mae: 0.8133\n",
      "Epoch 41/50\n",
      "\u001b[1m74673/74673\u001b[0m \u001b[32m━━━━━━━━━━━━━━━━━━━━\u001b[0m\u001b[37m\u001b[0m \u001b[1m166s\u001b[0m 2ms/step - loss: 0.9917 - mae: 0.8341 - val_loss: 0.9429 - val_mae: 0.8079\n",
      "Epoch 42/50\n",
      "\u001b[1m74673/74673\u001b[0m \u001b[32m━━━━━━━━━━━━━━━━━━━━\u001b[0m\u001b[37m\u001b[0m \u001b[1m165s\u001b[0m 2ms/step - loss: 0.9903 - mae: 0.8336 - val_loss: 0.9404 - val_mae: 0.8101\n",
      "Epoch 43/50\n",
      "\u001b[1m74673/74673\u001b[0m \u001b[32m━━━━━━━━━━━━━━━━━━━━\u001b[0m\u001b[37m\u001b[0m \u001b[1m166s\u001b[0m 2ms/step - loss: 0.9900 - mae: 0.8335 - val_loss: 0.9401 - val_mae: 0.8082\n",
      "Epoch 44/50\n",
      "\u001b[1m74673/74673\u001b[0m \u001b[32m━━━━━━━━━━━━━━━━━━━━\u001b[0m\u001b[37m\u001b[0m \u001b[1m167s\u001b[0m 2ms/step - loss: 0.9887 - mae: 0.8328 - val_loss: 0.9367 - val_mae: 0.8067\n",
      "Epoch 45/50\n",
      "\u001b[1m74673/74673\u001b[0m \u001b[32m━━━━━━━━━━━━━━━━━━━━\u001b[0m\u001b[37m\u001b[0m \u001b[1m166s\u001b[0m 2ms/step - loss: 0.9881 - mae: 0.8327 - val_loss: 0.9362 - val_mae: 0.8082\n",
      "Epoch 46/50\n",
      "\u001b[1m74673/74673\u001b[0m \u001b[32m━━━━━━━━━━━━━━━━━━━━\u001b[0m\u001b[37m\u001b[0m \u001b[1m166s\u001b[0m 2ms/step - loss: 0.9859 - mae: 0.8318 - val_loss: 0.9347 - val_mae: 0.8046\n",
      "Epoch 47/50\n",
      "\u001b[1m74673/74673\u001b[0m \u001b[32m━━━━━━━━━━━━━━━━━━━━\u001b[0m\u001b[37m\u001b[0m \u001b[1m166s\u001b[0m 2ms/step - loss: 0.9856 - mae: 0.8314 - val_loss: 0.9317 - val_mae: 0.8046\n",
      "Epoch 48/50\n",
      "\u001b[1m74673/74673\u001b[0m \u001b[32m━━━━━━━━━━━━━━━━━━━━\u001b[0m\u001b[37m\u001b[0m \u001b[1m166s\u001b[0m 2ms/step - loss: 0.9840 - mae: 0.8307 - val_loss: 0.9308 - val_mae: 0.8048\n",
      "Epoch 49/50\n",
      "\u001b[1m74673/74673\u001b[0m \u001b[32m━━━━━━━━━━━━━━━━━━━━\u001b[0m\u001b[37m\u001b[0m \u001b[1m167s\u001b[0m 2ms/step - loss: 0.9823 - mae: 0.8299 - val_loss: 0.9299 - val_mae: 0.8038\n",
      "Epoch 50/50\n",
      "\u001b[1m74673/74673\u001b[0m \u001b[32m━━━━━━━━━━━━━━━━━━━━\u001b[0m\u001b[37m\u001b[0m \u001b[1m167s\u001b[0m 2ms/step - loss: 0.9817 - mae: 0.8299 - val_loss: 0.9275 - val_mae: 0.8046\n"
     ]
    }
   ],
   "source": [
    "# Train the model\n",
    "history = model.fit(X_train, y_train, validation_split=0.2, epochs=50, batch_size=32, verbose=1)"
   ]
  },
  {
   "cell_type": "code",
   "execution_count": 18,
   "id": "b0d7c21a",
   "metadata": {
    "execution": {
     "iopub.execute_input": "2025-01-16T06:18:29.358694Z",
     "iopub.status.busy": "2025-01-16T06:18:29.358379Z",
     "iopub.status.idle": "2025-01-16T06:19:00.530688Z",
     "shell.execute_reply": "2025-01-16T06:19:00.529904Z"
    },
    "papermill": {
     "duration": 38.555184,
     "end_time": "2025-01-16T06:19:00.531986",
     "exception": false,
     "start_time": "2025-01-16T06:18:21.976802",
     "status": "completed"
    },
    "tags": []
   },
   "outputs": [
    {
     "name": "stdout",
     "output_type": "stream",
     "text": [
      "\u001b[1m23336/23336\u001b[0m \u001b[32m━━━━━━━━━━━━━━━━━━━━\u001b[0m\u001b[37m\u001b[0m \u001b[1m30s\u001b[0m 1ms/step - loss: 0.9289 - mae: 0.8051\n",
      "Test Loss: 0.9284270405769348, Test MAE: 0.8050732016563416\n"
     ]
    }
   ],
   "source": [
    "# Evaluate the model\n",
    "eval_results = model.evaluate(X_test, y_test, verbose=1)\n",
    "print(f\"Test Loss: {eval_results[0]}, Test MAE: {eval_results[1]}\")"
   ]
  },
  {
   "cell_type": "code",
   "execution_count": 19,
   "id": "a30f9ded",
   "metadata": {
    "execution": {
     "iopub.execute_input": "2025-01-16T06:19:15.117931Z",
     "iopub.status.busy": "2025-01-16T06:19:15.117603Z",
     "iopub.status.idle": "2025-01-16T06:19:15.204938Z",
     "shell.execute_reply": "2025-01-16T06:19:15.204196Z"
    },
    "papermill": {
     "duration": 7.287634,
     "end_time": "2025-01-16T06:19:15.206300",
     "exception": false,
     "start_time": "2025-01-16T06:19:07.918666",
     "status": "completed"
    },
    "tags": []
   },
   "outputs": [
    {
     "data": {
      "text/plain": [
       "['encoder.pkl']"
      ]
     },
     "execution_count": 19,
     "metadata": {},
     "output_type": "execute_result"
    }
   ],
   "source": [
    "# Save the model\n",
    "model.save('severity_prediction_model.h5')\n",
    "\n",
    "import joblib\n",
    "joblib.dump(scaler, 'scaler.pkl')\n",
    "joblib.dump(encoder, 'encoder.pkl')\n"
   ]
  },
  {
   "cell_type": "code",
   "execution_count": 20,
   "id": "d0322c8b",
   "metadata": {
    "execution": {
     "iopub.execute_input": "2025-01-16T06:19:29.891126Z",
     "iopub.status.busy": "2025-01-16T06:19:29.890793Z",
     "iopub.status.idle": "2025-01-16T06:19:30.437531Z",
     "shell.execute_reply": "2025-01-16T06:19:30.436748Z"
    },
    "papermill": {
     "duration": 7.7335,
     "end_time": "2025-01-16T06:19:30.438913",
     "exception": false,
     "start_time": "2025-01-16T06:19:22.705413",
     "status": "completed"
    },
    "tags": []
   },
   "outputs": [
    {
     "data": {
      "image/png": "[encoded data removed]",
      "text/plain": [
       "<Figure size 1200x600 with 1 Axes>"
      ]
     },
     "metadata": {},
     "output_type": "display_data"
    },
    {
     "data": {
      "image/png": "[encoded data removed]",
      "text/plain": [
       "<Figure size 1200x600 with 1 Axes>"
      ]
     },
     "metadata": {},
     "output_type": "display_data"
    }
   ],
   "source": [
    "# Plot training history\n",
    "plt.figure(figsize=(12, 6))\n",
    "plt.plot(history.history['loss'], label='Training Loss')\n",
    "plt.plot(history.history['val_loss'], label='Validation Loss')\n",
    "plt.xlabel('Epochs')\n",
    "plt.ylabel('Loss')\n",
    "plt.legend()\n",
    "plt.title('Training and Validation Loss')\n",
    "plt.show()\n",
    "\n",
    "plt.figure(figsize=(12, 6))\n",
    "plt.plot(history.history['mae'], label='Training MAE')\n",
    "plt.plot(history.history['val_mae'], label='Validation MAE')\n",
    "plt.xlabel('Epochs')\n",
    "plt.ylabel('Mean Absolute Error (MAE)')\n",
    "plt.legend()\n",
    "plt.title('Training and Validation MAE')\n",
    "plt.show()"
   ]
  }
 ],
 "metadata": {
  "kaggle": {
   "accelerator": "nvidiaTeslaT4",
   "dataSources": [
    {
     "datasetId": 199387,
     "sourceId": 5793796,
     "sourceType": "datasetVersion"
    }
   ],
   "dockerImageVersionId": 30823,
   "isGpuEnabled": true,
   "isInternetEnabled": true,
   "language": "python",
   "sourceType": "notebook"
  },
  "kernelspec": {
   "display_name": "Python 3",
   "language": "python",
   "name": "python3"
  },
  "language_info": {
   "codemirror_mode": {
    "name": "ipython",
    "version": 3
   },
   "file_extension": ".py",
   "mimetype": "text/x-python",
   "name": "python",
   "nbconvert_exporter": "python",
   "pygments_lexer": "ipython3",
   "version": "3.10.12"
  },
  "papermill": {
   "default_parameters": {},
   "duration": 8540.362139,
   "end_time": "2025-01-16T06:19:40.601168",
   "environment_variables": {},
   "exception": null,
   "input_path": "__notebook__.ipynb",
   "output_path": "__notebook__.ipynb",
   "parameters": {},
   "start_time": "2025-01-16T03:57:20.239029",
   "version": "2.6.0"
  }
 },
 "nbformat": 4,
 "nbformat_minor": 5
}
